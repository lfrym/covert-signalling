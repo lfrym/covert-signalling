{
 "cells": [
  {
   "cell_type": "code",
   "execution_count": 1,
   "id": "9622c2cb-af7b-43af-be18-bffab7de46ea",
   "metadata": {},
   "outputs": [],
   "source": [
    "import numpy as np\n",
    "import pandas as pd\n",
    "import matplotlib.pyplot as plt\n",
    "import collections"
   ]
  },
  {
   "cell_type": "code",
   "execution_count": 2,
   "id": "cd77507a-6a03-45ac-b8c4-875ab6bb5547",
   "metadata": {},
   "outputs": [],
   "source": [
    "n_tweets = 5021\n",
    "n_participants = 2000\n",
    "tweets_per_person = 50\n",
    "\n",
    "tweets = {i:[] for i in range(0,n_tweets)} # We can replace this with a list of the tweets themselves (or tweet IDs)\n",
    "participants = {i:[] for i in range(0,n_participants)}\n",
    "\n",
    "tweets_complete = {}\n",
    "participants_complete = {}\n",
    "\n",
    "sample_quota_each = int(n_participants*tweets_per_person/n_tweets) # or replace with an appropriate number if desired\n",
    "# i.e. maybe we want each tweet seen a minimum of 5 times.\n",
    "    "
   ]
  },
  {
   "cell_type": "markdown",
   "id": "58e81c39-1e00-407b-88dc-5d88d341e161",
   "metadata": {},
   "source": [
    "### Phase one: \n",
    "Ensure each tweet is seen at least enough to meet the quota set above"
   ]
  },
  {
   "cell_type": "code",
   "execution_count": 3,
   "id": "9d89533d-5e33-4acc-b221-f19e553363c5",
   "metadata": {},
   "outputs": [],
   "source": [
    "for tweet in range(n_tweets):\n",
    "    random_tweet = np.random.choice(list(tweets.keys())) # start with a random tweet\n",
    "    \n",
    "    for i in range(sample_quota_each): # We need to assign this tweet to the quota number of people\n",
    "        random_participant = np.random.choice(list(participants.keys()))\n",
    "        while random_tweet in participants.get(random_participant, []):   # If this randomly selected person has already been assigned this tweet...\n",
    "            random_participant = np.random.choice(list(participants.keys())) # Find a new person\n",
    "        participants.setdefault(random_participant, []).append(random_tweet)\n",
    "        if len(participants.get(random_participant, [])) >= tweets_per_person: # Remove people from the sample list if they have the max number we want anyone to answer\n",
    "            participants_complete[random_participant] = participants[random_participant]\n",
    "            del participants[random_participant]\n",
    "        tweets.setdefault(random_tweet, []).append(random_participant)    \n",
    "    \n",
    "    tweets_complete[random_tweet] = tweets[random_tweet]\n",
    "    del tweets[random_tweet]\n",
    "    "
   ]
  },
  {
   "cell_type": "markdown",
   "id": "b2b8366c-7da7-471b-8419-60cddfb63439",
   "metadata": {},
   "source": [
    "### Phase two: \n",
    "Since some people have been assigned fewer questions than planned, we can randomly assign them more until they have enough"
   ]
  },
  {
   "cell_type": "code",
   "execution_count": 4,
   "id": "e46ec4f3-edce-4dcf-a9c6-5c33884ce6a7",
   "metadata": {},
   "outputs": [],
   "source": [
    "for person in participants:\n",
    "    n_missing = tweets_per_person - len(participants.get(person, []))\n",
    "    added_tweets = list(np.random.choice(list(tweets_complete.keys()), n_missing, replace=False))\n",
    "    participants.setdefault(person, []).extend(added_tweets)\n",
    "    for each in added_tweets:\n",
    "        tweets_complete.setdefault(each, []).append(person)\n",
    "    participants_complete[person] = participants[person]\n",
    "    "
   ]
  },
  {
   "cell_type": "code",
   "execution_count": 5,
   "id": "e311ebe1-4414-4e3c-a600-3816646a279f",
   "metadata": {},
   "outputs": [],
   "source": [
    "output = pd.DataFrame(sorted(participants_complete.items()), columns = (\"Participant_ID\", \"tweets_assigned\"))\n",
    "#output.to_csv(\"sample_results.csv\")"
   ]
  },
  {
   "cell_type": "markdown",
   "id": "b2296856-70fe-47ea-bf48-74ab9d66cb54",
   "metadata": {},
   "source": [
    "Here is out final output: "
   ]
  },
  {
   "cell_type": "code",
   "execution_count": 92,
   "id": "0e7eea01-66b6-4407-a75a-d87d253bd796",
   "metadata": {},
   "outputs": [
    {
     "data": {
      "text/html": [
       "<div>\n",
       "<style scoped>\n",
       "    .dataframe tbody tr th:only-of-type {\n",
       "        vertical-align: middle;\n",
       "    }\n",
       "\n",
       "    .dataframe tbody tr th {\n",
       "        vertical-align: top;\n",
       "    }\n",
       "\n",
       "    .dataframe thead th {\n",
       "        text-align: right;\n",
       "    }\n",
       "</style>\n",
       "<table border=\"1\" class=\"dataframe\">\n",
       "  <thead>\n",
       "    <tr style=\"text-align: right;\">\n",
       "      <th></th>\n",
       "      <th>Participant_ID</th>\n",
       "      <th>tweets_assigned</th>\n",
       "    </tr>\n",
       "  </thead>\n",
       "  <tbody>\n",
       "    <tr>\n",
       "      <th>0</th>\n",
       "      <td>0</td>\n",
       "      <td>[2048, 3582, 3003, 1234, 2893, 909, 4722, 1965...</td>\n",
       "    </tr>\n",
       "    <tr>\n",
       "      <th>1</th>\n",
       "      <td>1</td>\n",
       "      <td>[1867, 4710, 1097, 4969, 887, 768, 2221, 2598,...</td>\n",
       "    </tr>\n",
       "    <tr>\n",
       "      <th>2</th>\n",
       "      <td>2</td>\n",
       "      <td>[5009, 3224, 561, 3972, 2716, 1631, 2146, 4367...</td>\n",
       "    </tr>\n",
       "    <tr>\n",
       "      <th>3</th>\n",
       "      <td>3</td>\n",
       "      <td>[2399, 804, 1705, 1908, 306, 4763, 4957, 3341,...</td>\n",
       "    </tr>\n",
       "    <tr>\n",
       "      <th>4</th>\n",
       "      <td>4</td>\n",
       "      <td>[3610, 4710, 2234, 2104, 281, 472, 1372, 3989,...</td>\n",
       "    </tr>\n",
       "    <tr>\n",
       "      <th>...</th>\n",
       "      <td>...</td>\n",
       "      <td>...</td>\n",
       "    </tr>\n",
       "    <tr>\n",
       "      <th>1995</th>\n",
       "      <td>1995</td>\n",
       "      <td>[222, 384, 44, 3084, 4064, 4336, 2636, 3010, 2...</td>\n",
       "    </tr>\n",
       "    <tr>\n",
       "      <th>1996</th>\n",
       "      <td>1996</td>\n",
       "      <td>[3288, 3964, 886, 4143, 802, 1890, 3647, 4973,...</td>\n",
       "    </tr>\n",
       "    <tr>\n",
       "      <th>1997</th>\n",
       "      <td>1997</td>\n",
       "      <td>[4956, 627, 3152, 1651, 2242, 3131, 4723, 2658...</td>\n",
       "    </tr>\n",
       "    <tr>\n",
       "      <th>1998</th>\n",
       "      <td>1998</td>\n",
       "      <td>[3874, 4562, 1402, 313, 4120, 699, 113, 2713, ...</td>\n",
       "    </tr>\n",
       "    <tr>\n",
       "      <th>1999</th>\n",
       "      <td>1999</td>\n",
       "      <td>[3728, 1118, 2430, 3085, 3126, 299, 85, 26, 23...</td>\n",
       "    </tr>\n",
       "  </tbody>\n",
       "</table>\n",
       "<p>2000 rows × 2 columns</p>\n",
       "</div>"
      ],
      "text/plain": [
       "      Participant_ID                                    tweets_assigned\n",
       "0                  0  [2048, 3582, 3003, 1234, 2893, 909, 4722, 1965...\n",
       "1                  1  [1867, 4710, 1097, 4969, 887, 768, 2221, 2598,...\n",
       "2                  2  [5009, 3224, 561, 3972, 2716, 1631, 2146, 4367...\n",
       "3                  3  [2399, 804, 1705, 1908, 306, 4763, 4957, 3341,...\n",
       "4                  4  [3610, 4710, 2234, 2104, 281, 472, 1372, 3989,...\n",
       "...              ...                                                ...\n",
       "1995            1995  [222, 384, 44, 3084, 4064, 4336, 2636, 3010, 2...\n",
       "1996            1996  [3288, 3964, 886, 4143, 802, 1890, 3647, 4973,...\n",
       "1997            1997  [4956, 627, 3152, 1651, 2242, 3131, 4723, 2658...\n",
       "1998            1998  [3874, 4562, 1402, 313, 4120, 699, 113, 2713, ...\n",
       "1999            1999  [3728, 1118, 2430, 3085, 3126, 299, 85, 26, 23...\n",
       "\n",
       "[2000 rows x 2 columns]"
      ]
     },
     "execution_count": 92,
     "metadata": {},
     "output_type": "execute_result"
    }
   ],
   "source": [
    "output"
   ]
  },
  {
   "cell_type": "code",
   "execution_count": 6,
   "id": "94f8eb5a-577c-4fd2-a734-6aa6a3229300",
   "metadata": {
    "tags": []
   },
   "outputs": [],
   "source": [
    "all_sampled = []\n",
    "_ = [all_sampled.extend(output['tweets_assigned'][i]) for i in range(len(output))]"
   ]
  },
  {
   "cell_type": "code",
   "execution_count": 7,
   "id": "bfedb80e-981f-43d0-845b-c82612ab5e30",
   "metadata": {},
   "outputs": [
    {
     "data": {
      "image/png": "[encoded data removed]",
      "text/plain": [
       "<Figure size 432x288 with 1 Axes>"
      ]
     },
     "metadata": {
      "needs_background": "light"
     },
     "output_type": "display_data"
    }
   ],
   "source": [
    "a = np.hstack(all_sampled)\n",
    "_ = plt.hist(a, bins=1000)"
   ]
  },
  {
   "cell_type": "markdown",
   "id": "3ac002f5-a7e8-4b3a-babc-b2632f423b23",
   "metadata": {},
   "source": [
    "Sampling is done evenly"
   ]
  },
  {
   "cell_type": "code",
   "execution_count": 8,
   "id": "c196a078-4cf0-4155-8f64-7476be034a71",
   "metadata": {},
   "outputs": [],
   "source": [
    "counter = collections.Counter(all_sampled)"
   ]
  },
  {
   "cell_type": "code",
   "execution_count": 9,
   "id": "797d758e-ee20-47a4-8e4f-ed0cb7364260",
   "metadata": {},
   "outputs": [
    {
     "name": "stdout",
     "output_type": "stream",
     "text": [
      "Tweet most frequently sampled:  643  was sampled  26 times\n",
      "Tweet least frequently sampled:  447  was sampled  19 times\n"
     ]
    }
   ],
   "source": [
    "most_common = counter.most_common(1)[0]\n",
    "least_common = counter.most_common()[-1:][0]\n",
    "print(\"Tweet most frequently sampled: \", most_common[0], \" was sampled \", most_common[1], \"times\")\n",
    "print(\"Tweet least frequently sampled: \", least_common[0], \" was sampled \", least_common[1], \"times\")\n"
   ]
  },
  {
   "cell_type": "code",
   "execution_count": null,
   "id": "ba37609a",
   "metadata": {},
   "outputs": [],
   "source": []
  }
 ],
 "metadata": {
  "kernelspec": {
   "display_name": "Python 3 (ipykernel)",
   "language": "python",
   "name": "python3"
  },
  "language_info": {
   "codemirror_mode": {
    "name": "ipython",
    "version": 3
   },
   "file_extension": ".py",
   "mimetype": "text/x-python",
   "name": "python",
   "nbconvert_exporter": "python",
   "pygments_lexer": "ipython3",
   "version": "3.9.7"
  }
 },
 "nbformat": 4,
 "nbformat_minor": 5
}
